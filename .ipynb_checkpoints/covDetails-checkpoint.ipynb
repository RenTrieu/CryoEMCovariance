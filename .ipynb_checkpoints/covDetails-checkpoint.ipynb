{
 "cells": [
  {
   "cell_type": "code",
   "execution_count": null,
   "metadata": {},
   "outputs": [],
   "source": [
    "import numpy as np\n",
    "import os\n",
    "import pandas as pd\n",
    "import matplotlib as pyplot"
   ]
  },
  {
   "cell_type": "code",
   "execution_count": null,
   "metadata": {},
   "outputs": [],
   "source": [
    "# Gets list of all files in the directory\n",
    "baseDirectory = 'ddMatrices'\n",
    "fileList = os.listdir(baseDirectory)\n",
    "print(os.listdir())\n",
    "\n",
    "# Lists all .npy files and their index in fileList\n",
    "# This can be used to find .npy files but I hardcoded the distance difference filename\n",
    "# for convenience\n",
    "for index, file in enumerate(fileList):\n",
    "    if file[-4:] == '.npy':\n",
    "        print('Index: ' + str(index))\n",
    "        print('Matrix Filename: ' + str(file))"
   ]
  },
  {
   "cell_type": "code",
   "execution_count": null,
   "metadata": {},
   "outputs": [],
   "source": [
    "# Loading the \"index\" of amino acids common to both pdb files \n",
    "# (any of the \"Formatted\" csv files)\n",
    "formattedIndices = []\n",
    "for index, file in enumerate(fileList):\n",
    "    if file[-4:] == '.csv':\n",
    "        print('Index: ' + str(index))\n",
    "        print('Common Index Filename: ' + str(file))\n",
    "        formattedIndices.append(index)\n",
    "\n",
    "# Removes the max limit on how many rows DataFrames display\n",
    "pd.set_option('display.max_rows', None) "
   ]
  },
  {
   "cell_type": "code",
   "execution_count": null,
   "metadata": {},
   "outputs": [],
   "source": [
    "# Each file in fileList is given an index (which can be viewed in the first loop in this notebook)\n",
    "# This function takes in an index (that corresponds to a csv file) and converts it into a \n",
    "# pandas.DataFrame object \n",
    "def dataFrameFromFile(index):\n",
    "    return pd.read_csv(os.path.join(baseDirectory, fileList[index]))\n",
    "\n",
    "# Creating a map from Residue Numbers to Residue Indices \n",
    "indexToNumMap = dataFrameFromFile(formattedIndices[0])['Residue Number'].to_list()\n",
    "numToIndexMap = {}\n",
    "for index, num in enumerate(indexToNumMap):\n",
    "    numToIndexMap[num] = index\n",
    "print(numToIndexMap)"
   ]
  },
  {
   "cell_type": "code",
   "execution_count": null,
   "metadata": {},
   "outputs": [],
   "source": [
    "# Example of displaying data from a .csv file in a pandas.DataFrame format\n",
    "dataFrameFromFile(formattedIndices[0])"
   ]
  },
  {
   "cell_type": "code",
   "execution_count": null,
   "metadata": {},
   "outputs": [],
   "source": [
    "# The covMapDict maps from covariance index to residue-residue index pairs\n",
    "covMapDict = np.load('covMapDict.npy', allow_pickle=True).item()\n",
    "\n",
    "# We reverse this dictionary so that it maps from residue-residue index pairs to covariance index\n",
    "covMapDictReverse = {}\n",
    "for key in covMapDict.keys():\n",
    "    covMapDictReverse[str(covMapDict[key])] = key\n",
    "print(covMapDictReverse)"
   ]
  },
  {
   "cell_type": "code",
   "execution_count": null,
   "metadata": {},
   "outputs": [],
   "source": [
    "covMatrix = np.load('CovarianceMatrix.npy', allow_pickle=True)\n",
    "print(covMatrix.shape)"
   ]
  },
  {
   "cell_type": "code",
   "execution_count": null,
   "metadata": {},
   "outputs": [],
   "source": [
    "# Takes in two integers representing residue numbers\n",
    "# Maps residue numbers to residue indices using numToIndexMap\n",
    "# Then uses covMapDict to map residue indices to covariance indices\n",
    "# Mainly a helper method for resNumbersToCovValue\n",
    "def resNumbersToCovIndex(res1, res2):\n",
    "    res1 = numToIndexMap[res1]\n",
    "    res2 = numToIndexMap[res2]\n",
    "    if (res1 > res2):\n",
    "        temp = res1\n",
    "        res1 = res2\n",
    "        res2 = temp\n",
    "    resPairString = '(' + str(res1) + ', ' + str(res2) +')'\n",
    "    covIndex = covMapDictReverse[resPairString]\n",
    "    return covIndex\n",
    "    \n",
    "# Takes in two tuples (int, int) representing residue pairs\n",
    "# Uses resNumbersToCovIndex to map each residue pair to a covariance index\n",
    "def resNumberToCovValue(resPair1, resPair2):\n",
    "    covIndex1 = resNumbersToCovIndex(resPair1[0], resPair1[1])\n",
    "    covIndex2 = resNumbersToCovIndex(resPair2[0], resPair2[1])\n",
    "    return covMatrix[covIndex1][covIndex2]"
   ]
  },
  {
   "cell_type": "code",
   "execution_count": null,
   "metadata": {},
   "outputs": [],
   "source": [
    "# Example of querying specific covariance values in the loaded CovarianceMatrix\n",
    "print('C118-F146; T72-H125: ' + str(resNumberToCovValue((118, 146), (72, 125))))\n",
    "print('D185-M196; C118-F146: ' + str(resNumberToCovValue((185, 196), (118, 146))))\n",
    "print('D185-M196; T72-H125: ' + str(resNumberToCovValue((185, 196), (72, 125))))"
   ]
  },
  {
   "cell_type": "code",
   "execution_count": null,
   "metadata": {},
   "outputs": [],
   "source": [
    "np.average(covMatrix)"
   ]
  },
  {
   "cell_type": "code",
   "execution_count": null,
   "metadata": {},
   "outputs": [],
   "source": []
  }
 ],
 "metadata": {
  "kernelspec": {
   "display_name": "Python 3",
   "language": "python",
   "name": "python3"
  },
  "language_info": {
   "codemirror_mode": {
    "name": "ipython",
    "version": 3
   },
   "file_extension": ".py",
   "mimetype": "text/x-python",
   "name": "python",
   "nbconvert_exporter": "python",
   "pygments_lexer": "ipython3",
   "version": "3.7.3"
  }
 },
 "nbformat": 4,
 "nbformat_minor": 2
}
